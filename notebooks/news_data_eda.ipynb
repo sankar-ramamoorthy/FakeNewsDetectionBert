{
 "cells": [
  {
   "cell_type": "code",
   "execution_count": 1,
   "metadata": {},
   "outputs": [],
   "source": [
    "import pandas as pd\n",
    "pd.set_option('display.max_rows', None)\n",
    "pd.set_option('display.max_columns', None)\n",
    "import numpy as np\n",
    "import matplotlib.pyplot as plt\n",
    "import torch\n",
    "import torch.nn as nn\n",
    "import torch.optim as optim"
   ]
  },
  {
   "cell_type": "code",
   "execution_count": 2,
   "metadata": {},
   "outputs": [],
   "source": [
    "import torchtext"
   ]
  },
  {
   "cell_type": "code",
   "execution_count": 3,
   "metadata": {},
   "outputs": [],
   "source": [
    "fake_fp = '../data/Fake.csv'\n",
    "real_fp = '../data/True.csv'"
   ]
  },
  {
   "cell_type": "code",
   "execution_count": 4,
   "metadata": {},
   "outputs": [
    {
     "data": {
      "text/html": [
       "<div>\n",
       "<style scoped>\n",
       "    .dataframe tbody tr th:only-of-type {\n",
       "        vertical-align: middle;\n",
       "    }\n",
       "\n",
       "    .dataframe tbody tr th {\n",
       "        vertical-align: top;\n",
       "    }\n",
       "\n",
       "    .dataframe thead th {\n",
       "        text-align: right;\n",
       "    }\n",
       "</style>\n",
       "<table border=\"1\" class=\"dataframe\">\n",
       "  <thead>\n",
       "    <tr style=\"text-align: right;\">\n",
       "      <th></th>\n",
       "      <th>title</th>\n",
       "      <th>text</th>\n",
       "      <th>subject</th>\n",
       "      <th>date</th>\n",
       "    </tr>\n",
       "  </thead>\n",
       "  <tbody>\n",
       "    <tr>\n",
       "      <td>0</td>\n",
       "      <td>Donald Trump Sends Out Embarrassing New Year’...</td>\n",
       "      <td>Donald Trump just couldn t wish all Americans ...</td>\n",
       "      <td>News</td>\n",
       "      <td>December 31, 2017</td>\n",
       "    </tr>\n",
       "    <tr>\n",
       "      <td>1</td>\n",
       "      <td>Drunk Bragging Trump Staffer Started Russian ...</td>\n",
       "      <td>House Intelligence Committee Chairman Devin Nu...</td>\n",
       "      <td>News</td>\n",
       "      <td>December 31, 2017</td>\n",
       "    </tr>\n",
       "    <tr>\n",
       "      <td>2</td>\n",
       "      <td>Sheriff David Clarke Becomes An Internet Joke...</td>\n",
       "      <td>On Friday, it was revealed that former Milwauk...</td>\n",
       "      <td>News</td>\n",
       "      <td>December 30, 2017</td>\n",
       "    </tr>\n",
       "    <tr>\n",
       "      <td>3</td>\n",
       "      <td>Trump Is So Obsessed He Even Has Obama’s Name...</td>\n",
       "      <td>On Christmas day, Donald Trump announced that ...</td>\n",
       "      <td>News</td>\n",
       "      <td>December 29, 2017</td>\n",
       "    </tr>\n",
       "    <tr>\n",
       "      <td>4</td>\n",
       "      <td>Pope Francis Just Called Out Donald Trump Dur...</td>\n",
       "      <td>Pope Francis used his annual Christmas Day mes...</td>\n",
       "      <td>News</td>\n",
       "      <td>December 25, 2017</td>\n",
       "    </tr>\n",
       "  </tbody>\n",
       "</table>\n",
       "</div>"
      ],
      "text/plain": [
       "                                               title  \\\n",
       "0   Donald Trump Sends Out Embarrassing New Year’...   \n",
       "1   Drunk Bragging Trump Staffer Started Russian ...   \n",
       "2   Sheriff David Clarke Becomes An Internet Joke...   \n",
       "3   Trump Is So Obsessed He Even Has Obama’s Name...   \n",
       "4   Pope Francis Just Called Out Donald Trump Dur...   \n",
       "\n",
       "                                                text subject  \\\n",
       "0  Donald Trump just couldn t wish all Americans ...    News   \n",
       "1  House Intelligence Committee Chairman Devin Nu...    News   \n",
       "2  On Friday, it was revealed that former Milwauk...    News   \n",
       "3  On Christmas day, Donald Trump announced that ...    News   \n",
       "4  Pope Francis used his annual Christmas Day mes...    News   \n",
       "\n",
       "                date  \n",
       "0  December 31, 2017  \n",
       "1  December 31, 2017  \n",
       "2  December 30, 2017  \n",
       "3  December 29, 2017  \n",
       "4  December 25, 2017  "
      ]
     },
     "execution_count": 4,
     "metadata": {},
     "output_type": "execute_result"
    }
   ],
   "source": [
    "fake = pd.read_csv(fake_fp)\n",
    "fake.head()"
   ]
  },
  {
   "cell_type": "code",
   "execution_count": 6,
   "metadata": {},
   "outputs": [
    {
     "data": {
      "text/plain": [
       "(23481, 4)"
      ]
     },
     "execution_count": 6,
     "metadata": {},
     "output_type": "execute_result"
    }
   ],
   "source": [
    "fake.shape"
   ]
  },
  {
   "cell_type": "code",
   "execution_count": 7,
   "metadata": {},
   "outputs": [
    {
     "data": {
      "text/html": [
       "<div>\n",
       "<style scoped>\n",
       "    .dataframe tbody tr th:only-of-type {\n",
       "        vertical-align: middle;\n",
       "    }\n",
       "\n",
       "    .dataframe tbody tr th {\n",
       "        vertical-align: top;\n",
       "    }\n",
       "\n",
       "    .dataframe thead th {\n",
       "        text-align: right;\n",
       "    }\n",
       "</style>\n",
       "<table border=\"1\" class=\"dataframe\">\n",
       "  <thead>\n",
       "    <tr style=\"text-align: right;\">\n",
       "      <th></th>\n",
       "      <th>title</th>\n",
       "      <th>text</th>\n",
       "      <th>subject</th>\n",
       "      <th>date</th>\n",
       "    </tr>\n",
       "  </thead>\n",
       "  <tbody>\n",
       "    <tr>\n",
       "      <td>0</td>\n",
       "      <td>Donald Trump Sends Out Embarrassing New Year’...</td>\n",
       "      <td>Donald Trump just couldn t wish all Americans ...</td>\n",
       "      <td>News</td>\n",
       "      <td>December 31, 2017</td>\n",
       "    </tr>\n",
       "  </tbody>\n",
       "</table>\n",
       "</div>"
      ],
      "text/plain": [
       "                                               title  \\\n",
       "0   Donald Trump Sends Out Embarrassing New Year’...   \n",
       "\n",
       "                                                text subject  \\\n",
       "0  Donald Trump just couldn t wish all Americans ...    News   \n",
       "\n",
       "                date  \n",
       "0  December 31, 2017  "
      ]
     },
     "execution_count": 7,
     "metadata": {},
     "output_type": "execute_result"
    }
   ],
   "source": [
    "fake[fake.title.str.contains('Donald Trump Sends Out Embarrassing New Year’s Eve Message')]"
   ]
  },
  {
   "cell_type": "code",
   "execution_count": 8,
   "metadata": {},
   "outputs": [
    {
     "data": {
      "text/plain": [
       "News               0.385418\n",
       "politics           0.291342\n",
       "left-news          0.189898\n",
       "Government News    0.066863\n",
       "US_News            0.033346\n",
       "Middle-east        0.033133\n",
       "Name: subject, dtype: float64"
      ]
     },
     "execution_count": 8,
     "metadata": {},
     "output_type": "execute_result"
    }
   ],
   "source": [
    "fake.subject.value_counts(normalize=True)"
   ]
  },
  {
   "cell_type": "code",
   "execution_count": 9,
   "metadata": {},
   "outputs": [
    {
     "data": {
      "text/plain": [
       "(23481, 4)"
      ]
     },
     "execution_count": 9,
     "metadata": {},
     "output_type": "execute_result"
    }
   ],
   "source": [
    "fake.shape"
   ]
  },
  {
   "cell_type": "code",
   "execution_count": 10,
   "metadata": {},
   "outputs": [
    {
     "data": {
      "text/html": [
       "<div>\n",
       "<style scoped>\n",
       "    .dataframe tbody tr th:only-of-type {\n",
       "        vertical-align: middle;\n",
       "    }\n",
       "\n",
       "    .dataframe tbody tr th {\n",
       "        vertical-align: top;\n",
       "    }\n",
       "\n",
       "    .dataframe thead th {\n",
       "        text-align: right;\n",
       "    }\n",
       "</style>\n",
       "<table border=\"1\" class=\"dataframe\">\n",
       "  <thead>\n",
       "    <tr style=\"text-align: right;\">\n",
       "      <th></th>\n",
       "      <th>title</th>\n",
       "      <th>text</th>\n",
       "      <th>subject</th>\n",
       "      <th>date</th>\n",
       "    </tr>\n",
       "  </thead>\n",
       "  <tbody>\n",
       "    <tr>\n",
       "      <td>0</td>\n",
       "      <td>As U.S. budget fight looms, Republicans flip t...</td>\n",
       "      <td>WASHINGTON (Reuters) - The head of a conservat...</td>\n",
       "      <td>politicsNews</td>\n",
       "      <td>December 31, 2017</td>\n",
       "    </tr>\n",
       "    <tr>\n",
       "      <td>1</td>\n",
       "      <td>U.S. military to accept transgender recruits o...</td>\n",
       "      <td>WASHINGTON (Reuters) - Transgender people will...</td>\n",
       "      <td>politicsNews</td>\n",
       "      <td>December 29, 2017</td>\n",
       "    </tr>\n",
       "    <tr>\n",
       "      <td>2</td>\n",
       "      <td>Senior U.S. Republican senator: 'Let Mr. Muell...</td>\n",
       "      <td>WASHINGTON (Reuters) - The special counsel inv...</td>\n",
       "      <td>politicsNews</td>\n",
       "      <td>December 31, 2017</td>\n",
       "    </tr>\n",
       "    <tr>\n",
       "      <td>3</td>\n",
       "      <td>FBI Russia probe helped by Australian diplomat...</td>\n",
       "      <td>WASHINGTON (Reuters) - Trump campaign adviser ...</td>\n",
       "      <td>politicsNews</td>\n",
       "      <td>December 30, 2017</td>\n",
       "    </tr>\n",
       "    <tr>\n",
       "      <td>4</td>\n",
       "      <td>Trump wants Postal Service to charge 'much mor...</td>\n",
       "      <td>SEATTLE/WASHINGTON (Reuters) - President Donal...</td>\n",
       "      <td>politicsNews</td>\n",
       "      <td>December 29, 2017</td>\n",
       "    </tr>\n",
       "  </tbody>\n",
       "</table>\n",
       "</div>"
      ],
      "text/plain": [
       "                                               title  \\\n",
       "0  As U.S. budget fight looms, Republicans flip t...   \n",
       "1  U.S. military to accept transgender recruits o...   \n",
       "2  Senior U.S. Republican senator: 'Let Mr. Muell...   \n",
       "3  FBI Russia probe helped by Australian diplomat...   \n",
       "4  Trump wants Postal Service to charge 'much mor...   \n",
       "\n",
       "                                                text       subject  \\\n",
       "0  WASHINGTON (Reuters) - The head of a conservat...  politicsNews   \n",
       "1  WASHINGTON (Reuters) - Transgender people will...  politicsNews   \n",
       "2  WASHINGTON (Reuters) - The special counsel inv...  politicsNews   \n",
       "3  WASHINGTON (Reuters) - Trump campaign adviser ...  politicsNews   \n",
       "4  SEATTLE/WASHINGTON (Reuters) - President Donal...  politicsNews   \n",
       "\n",
       "                 date  \n",
       "0  December 31, 2017   \n",
       "1  December 29, 2017   \n",
       "2  December 31, 2017   \n",
       "3  December 30, 2017   \n",
       "4  December 29, 2017   "
      ]
     },
     "execution_count": 10,
     "metadata": {},
     "output_type": "execute_result"
    }
   ],
   "source": [
    "real = pd.read_csv(real_fp)\n",
    "real.head()"
   ]
  },
  {
   "cell_type": "code",
   "execution_count": 11,
   "metadata": {},
   "outputs": [
    {
     "data": {
      "text/plain": [
       "(21417, 4)"
      ]
     },
     "execution_count": 11,
     "metadata": {},
     "output_type": "execute_result"
    }
   ],
   "source": [
    "real.shape"
   ]
  },
  {
   "cell_type": "code",
   "execution_count": 12,
   "metadata": {},
   "outputs": [],
   "source": [
    "# add labels before concatenating\n",
    "fake.loc[:,'label'] = 0\n",
    "real.loc[:,'label'] = 1"
   ]
  },
  {
   "cell_type": "code",
   "execution_count": 13,
   "metadata": {},
   "outputs": [
    {
     "data": {
      "text/html": [
       "<div>\n",
       "<style scoped>\n",
       "    .dataframe tbody tr th:only-of-type {\n",
       "        vertical-align: middle;\n",
       "    }\n",
       "\n",
       "    .dataframe tbody tr th {\n",
       "        vertical-align: top;\n",
       "    }\n",
       "\n",
       "    .dataframe thead th {\n",
       "        text-align: right;\n",
       "    }\n",
       "</style>\n",
       "<table border=\"1\" class=\"dataframe\">\n",
       "  <thead>\n",
       "    <tr style=\"text-align: right;\">\n",
       "      <th></th>\n",
       "      <th>title</th>\n",
       "      <th>text</th>\n",
       "      <th>subject</th>\n",
       "      <th>date</th>\n",
       "      <th>label</th>\n",
       "    </tr>\n",
       "  </thead>\n",
       "  <tbody>\n",
       "    <tr>\n",
       "      <td>0</td>\n",
       "      <td>Donald Trump Sends Out Embarrassing New Year’...</td>\n",
       "      <td>Donald Trump just couldn t wish all Americans ...</td>\n",
       "      <td>News</td>\n",
       "      <td>December 31, 2017</td>\n",
       "      <td>0</td>\n",
       "    </tr>\n",
       "    <tr>\n",
       "      <td>1</td>\n",
       "      <td>Drunk Bragging Trump Staffer Started Russian ...</td>\n",
       "      <td>House Intelligence Committee Chairman Devin Nu...</td>\n",
       "      <td>News</td>\n",
       "      <td>December 31, 2017</td>\n",
       "      <td>0</td>\n",
       "    </tr>\n",
       "    <tr>\n",
       "      <td>2</td>\n",
       "      <td>Sheriff David Clarke Becomes An Internet Joke...</td>\n",
       "      <td>On Friday, it was revealed that former Milwauk...</td>\n",
       "      <td>News</td>\n",
       "      <td>December 30, 2017</td>\n",
       "      <td>0</td>\n",
       "    </tr>\n",
       "    <tr>\n",
       "      <td>3</td>\n",
       "      <td>Trump Is So Obsessed He Even Has Obama’s Name...</td>\n",
       "      <td>On Christmas day, Donald Trump announced that ...</td>\n",
       "      <td>News</td>\n",
       "      <td>December 29, 2017</td>\n",
       "      <td>0</td>\n",
       "    </tr>\n",
       "    <tr>\n",
       "      <td>4</td>\n",
       "      <td>Pope Francis Just Called Out Donald Trump Dur...</td>\n",
       "      <td>Pope Francis used his annual Christmas Day mes...</td>\n",
       "      <td>News</td>\n",
       "      <td>December 25, 2017</td>\n",
       "      <td>0</td>\n",
       "    </tr>\n",
       "  </tbody>\n",
       "</table>\n",
       "</div>"
      ],
      "text/plain": [
       "                                               title  \\\n",
       "0   Donald Trump Sends Out Embarrassing New Year’...   \n",
       "1   Drunk Bragging Trump Staffer Started Russian ...   \n",
       "2   Sheriff David Clarke Becomes An Internet Joke...   \n",
       "3   Trump Is So Obsessed He Even Has Obama’s Name...   \n",
       "4   Pope Francis Just Called Out Donald Trump Dur...   \n",
       "\n",
       "                                                text subject  \\\n",
       "0  Donald Trump just couldn t wish all Americans ...    News   \n",
       "1  House Intelligence Committee Chairman Devin Nu...    News   \n",
       "2  On Friday, it was revealed that former Milwauk...    News   \n",
       "3  On Christmas day, Donald Trump announced that ...    News   \n",
       "4  Pope Francis used his annual Christmas Day mes...    News   \n",
       "\n",
       "                date  label  \n",
       "0  December 31, 2017      0  \n",
       "1  December 31, 2017      0  \n",
       "2  December 30, 2017      0  \n",
       "3  December 29, 2017      0  \n",
       "4  December 25, 2017      0  "
      ]
     },
     "execution_count": 13,
     "metadata": {},
     "output_type": "execute_result"
    }
   ],
   "source": [
    "df = pd.concat([fake, real], ignore_index=True)\n",
    "df.head()"
   ]
  },
  {
   "cell_type": "code",
   "execution_count": 14,
   "metadata": {},
   "outputs": [
    {
     "data": {
      "text/plain": [
       "(44898, 5)"
      ]
     },
     "execution_count": 14,
     "metadata": {},
     "output_type": "execute_result"
    }
   ],
   "source": [
    "df.shape"
   ]
  },
  {
   "cell_type": "code",
   "execution_count": 15,
   "metadata": {},
   "outputs": [
    {
     "data": {
      "text/plain": [
       "0    0.522985\n",
       "1    0.477015\n",
       "Name: label, dtype: float64"
      ]
     },
     "execution_count": 15,
     "metadata": {},
     "output_type": "execute_result"
    }
   ],
   "source": [
    "df.label.value_counts(normalize=True)"
   ]
  },
  {
   "cell_type": "code",
   "execution_count": 16,
   "metadata": {},
   "outputs": [
    {
     "data": {
      "text/plain": [
       "(44898, 2)"
      ]
     },
     "execution_count": 16,
     "metadata": {},
     "output_type": "execute_result"
    }
   ],
   "source": [
    "df = df[['text', 'label']]\n",
    "df.shape"
   ]
  },
  {
   "cell_type": "code",
   "execution_count": 17,
   "metadata": {},
   "outputs": [
    {
     "name": "stdout",
     "output_type": "stream",
     "text": [
      "average text length: 2469.11\n"
     ]
    }
   ],
   "source": [
    "text_lengths = df.text.str.len()\n",
    "print(f'average text length: {text_lengths.mean():0.2f}')"
   ]
  },
  {
   "cell_type": "code",
   "execution_count": 18,
   "metadata": {},
   "outputs": [
    {
     "data": {
      "text/plain": [
       "count    44898.000000\n",
       "mean      2469.109693\n",
       "std       2171.617091\n",
       "min          1.000000\n",
       "25%       1234.000000\n",
       "50%       2186.000000\n",
       "75%       3105.000000\n",
       "max      51794.000000\n",
       "Name: text, dtype: float64"
      ]
     },
     "execution_count": 18,
     "metadata": {},
     "output_type": "execute_result"
    }
   ],
   "source": [
    "text_lengths.describe()"
   ]
  },
  {
   "cell_type": "code",
   "execution_count": 18,
   "metadata": {},
   "outputs": [
    {
     "data": {
      "text/plain": [
       "count    44898.000000\n",
       "mean       405.282284\n",
       "std        351.265595\n",
       "min          0.000000\n",
       "25%        203.000000\n",
       "50%        362.000000\n",
       "75%        513.000000\n",
       "max       8135.000000\n",
       "Name: text, dtype: float64"
      ]
     },
     "execution_count": 18,
     "metadata": {},
     "output_type": "execute_result"
    }
   ],
   "source": [
    "# how many words per text?\n",
    "df.text.str.split().str.len().describe()"
   ]
  },
  {
   "cell_type": "code",
   "execution_count": 22,
   "metadata": {},
   "outputs": [
    {
     "data": {
      "text/plain": [
       "44897"
      ]
     },
     "execution_count": 22,
     "metadata": {},
     "output_type": "execute_result"
    }
   ],
   "source": [
    "df.index.max()"
   ]
  },
  {
   "cell_type": "code",
   "execution_count": 25,
   "metadata": {},
   "outputs": [
    {
     "name": "stdout",
     "output_type": "stream",
     "text": [
      "MEXICO CITY (Reuters) - For a country still in mourning and counting its dead from Tuesday s devastating earthquake, Frida the Navy rescue dog has emerged as a source of inspiration and pride in the search for survivors. Known for her custom-made doggy goggles and boots, the 7-year-old yellow Labrador has become a social media star, appearing on one man s tattoo and the unofficial image of a 500-peso note. Some posts have wildly exaggerated her feats. In her career, Frida has located 12 people alive beneath the rubble plus more than 40 others dead, more than any other Mexican rescue dog, the Navy said. She has put her nose to work in disasters such as an earthquake in Ecuador last year, another one in southern Mexico two weeks ago, a landslide in Guatemala in 2015 and a Mexico City gas explosion in 2013. Her credits for the most recent disaster has not been tallied yet, said Navy Captain Armando Segura, because she is still busy trying to save lives. The 7.1-magnitude quake has killed nearly 300 people, and rescuers were still digging through some of the 52 buildings that collapsed in Mexico City alone. Frida has spent most of her efforts at a school in southern Mexico City where 19 school children and six adults died, but 11 more children were rescued. As one of the of the country s most trusted institutions, the Mexican Navy has a wider role than most armadas, including a canine unit that has two other dogs, a pair of 18-month-old Belgian shepherds, Echo and Evil. Mexico s army also has rescue dogs digging through the debris of damaged buildings, and a dog named Maya from the Jalisco state government was credited with finding two dead bodies on Thursday. The United States and Chile have also brought rescue dogs for the Mexican quake. None can match the fame of Frida.  It s a source of pride to work with Frida. She s a very, very special dog,  said Israel Arauz, her handler for the past two years. Frida only has about a year left as a life-scent dog before her olfactory senses are expected to decline, after which she will retire to live with Arauz.  \n",
      "\n",
      "NEW YORK (Reuters) - French far-right presidential candidate Marine Le Pen was seen at Trump Tower on Thursday, but a spokesman for President-elect Donald Trump said she did not meet with him or his team. “No meetings with anyone,” transition spokesman Sean Spicer said. “It’s a public building.” Le Pen, whose National Front party holds anti-immigrant and anti-European Union views, was seen entering an elevator at the building, according to a Reuters witness, but she did not speak to reporters gathered there. George Lombardi, a Trump friend who lives in Trump Tower, told reporters that he had coffee there Thursday with Le Pen, who he said he has known for 20 years. He said Le Pen did not request a meeting with Trump. A day earlier, Lombardi said, they attended a party with people they believe might raise money for her campaign, including business people and diplomats. “This is a perfectly privately encounter that she had with some friends of ours,” Lombardi said. “Some people had been asking to meet her a long time ago, and she just happened to be here because I happen to live here.” Le Pen, who is currently projected to lose a runoff with conservative former prime minister Francois Fillon in next May’s election, has struggled to raise money for her campaign both in France and abroad. She has also sought to burnish her credentials with foreign appearances. Her staff in April announced that she would go to Britain to campaign for that country’s exit from the European Union but she ended up not going after being shunned by the Brexit campaign. Le Pen was seen at Trump Tower with Lombardi, Louis Aliot, her partner and vice president of National Front, and Ludovic De Danne, her international affairs adviser. Her staff confirmed her visit to New York, characterizing it as a private trip. “She took two days to have a break,” campaign director David Rachline said. Trump Tower has been the site of a series of meetings between Trump, a Republican, and business and political leaders as he assembles his administration ahead of his Jan. 20 inauguration. It also has become a tourist destination since Trump’s surprise November election victory over Democrat Hillary Clinton.  The group Human Rights Watch mentioned both Trump and Le Pen in a report warning that the rise of populist leaders threatens global human rights. It cited Trump’s victory as well as Britain’s move to leave the European Union led by Nigel Farage, who Trump has praised.  Le Pen is expected to earn enough votes in the first round of presidential voting in April to enter a second round election set for May 7. Last summer Le Pen told a French magazine that if she were American, she would vote for Trump rather than Clinton. A week after Trump’s victory, Le Pen said she, Trump and Russian President Vladimir Putin “would be good for world peace.”  \n",
      "\n",
      "  \n",
      "\n",
      "(Reuters) - Results of Baltimore’s primary election were ordered decertified on Thursday by the Maryland elections board, which cited irregularities in the April 26 vote that may have influenced a tight mayoral race. The state panel will begin a precinct-by-precinct review of voting in the overwhelming Democratic city. The Baltimore elections board will pull its certification this evening, state board administrator Linda Lamone said. The state review could cast doubt on the narrow victory by state Senator Catherine Pugh in the mayoral primary, where she defeated former Mayor Sheila Dixon. Pugh had backed law enforcement reform as Baltimore recovers from April 2015 rioting sparked by a black man’s death from an injury in police custody. Three City Council races were determined by a few hundred votes. Lamone said officials had found 80 provisional ballots that had not been checked to see whether they were cast in the right precinct or the voters were registered. Unusually high numbers of voters also checked in at polling places but never cast ballots, she said. That issue was not cleared up when the city board certified the election this week. “There were enough discrepancies in that reconciliation (on the number of voters) that made me determine we need to review everything more,” Lamone said. A group of activists has questioned the fairness of the election. Victory in the Democratic primary means an almost certain win in the November general election.  \n",
      "\n",
      "Donald Trump stroked his own ego again and got humiliated for it.During a very creepy Cabinet meeting where each member took their turn praising Trump on national television, Trump bragged about the number of bills he has signed, claiming to have signed more legislation than any other president in history except Franklin Roosevelt. I will say that never has there been a president   with few exceptions, in the case of FDR he had a major Depression to handle   who s passed more legislation, who s done more things than what we ve done,  Trump boasted.Technically, it s sort of true. Actually, Roosevelt and Truman signed more. But the kind of legislation Trump has signed thus far is insignificant. For instance, most of the bills include creating memorials, designating buildings, appointing members to the Smithsonian board, encouraging Americans to display the flag on a certain day, and a bunch of other pithy bills that really are pathetic when you consider all the major pieces of legislation other presidents signed after they took office.But that didn t stop Trump from blowing his own horn again on Twitter Friday morning.I ve helped pass and signed 38 Legislative Bills, mostly with no Democratic support, and gotten rid of massive amounts of regulations. Nice!  Donald J. Trump (@realDonaldTrump) June 23, 2017Again, Trump has no major legislative achievements, and it should be pointed out that President Obama signed plenty of bills, including major pieces of legislation without Republican support. Unlike Trump, Obama didn t whine about it.Predictably, and rightfully so, Twitter users were quick to bash Trump for bragging about his pathetic record.Literally every single major legislative effort you ve had has FAILED DRAMATICALLY!  Jules Suzdaltsev (@jules_su) June 23, 2017Except that the regulations that this administration got rid of were essential to protecting the environment and checking Wall St excesses.  Anirvan Ghosh (@anirvanghosh) June 23, 2017Praising yourself = sad & desperate Ending self praise with  Nice!  = high fiving yourself after masturbating  Pep Rosenfeld (@peprosenfeld) June 23, 2017No Major Bills, despite having the House and Senate on your side. NOT NICE!  Impeach Donald Trump (@Impeach_D_Trump) June 23, 2017you ve mostly just removed laws that protect living creatures. Congratulations, fuck face. https://t.co/OjgRh2V7Id.  kim (@kim) June 23, 2017Congrats as well, 4 signing bill that now allows hibernating bears in Alaska 2 be shot by hunters, as well as tracked by aircraft & killed!!  Pam W ?????? (@dallaspamela53) June 23, 2017You are a seriously needy lil bitch  Rogue CPI (@RogueCPI) June 23, 2017It takes a real small man to feel the need to brag. Thanks for the daily reminder of how weak and fragile you are #LamePOTUS  Scott Greenstone (@sgreenstonenj) June 23, 2017Donald Trump is a pathetic old man who should be getting impeached and thrown in prison for the rest of his miserable life. Instead, Republicans are letting him disgrace the presidency and embarrass the United States on a daily basis. 2020 can t get here soon enough.Featured Image: Alex Wong/Getty Images \n",
      "\n",
      "THIS IS HUGE! The DOJ has authorized the FBI Informant to speak with Congress concerning alleged corruption involving Clintons & Uranium One:BREAKING: DOJ authorizes FBI Informant to speak with Congress concerning alleged corruption involving Clintons & Uranium One. #MAGA #DTS  Lou Dobbs (@LouDobbs) October 25, 2017FOX NEWS REPORTED: In a statement, the department said it had authorized the informant to discuss the 2013 agreement   known as Uranium One   and related matters with the leaders of the Senate Judiciary Committee, the House Oversight committee, and the House Permanent Select Committee on Intelligence.Finally- @RepDeSantis:  It s about time  DOJ authorized FBI Informant to speak w/ congress about Clinton Uranium Corruption. #TrumpTrain pic.twitter.com/tBnUjZGzzF  Lou Dobbs (@LouDobbs) October 26, 2017OUR PREVIOUS REPORT ON THE INFORMANT: The lawyer for the FBI informant under a gag order that prevents him from going before Congress spoke out about what s to come with the Clinton/Russia Uranium story:Fox Business reported: An informant for the Federal Bureau of Investigation (FBI) is under a gag order that prevents him from testifying before the United States Congress that Russian nuclear officials were involved in fraudulent dealings in 2009 before the Uranium One deal was approved.Former Attorney General Loretta Lynch blocked the informant from testifying last year and threatened criminal action against him if he were to do so.In an interview with FOX Business  Lou Dobbs, Victoria Toensing, the attorney representing the FBI informant, said she has never heard of a criminal penalty for breaching a non-disclosure agreement (NDA). If it does and it is unconstitutional and it s invalid, if it prohibits my client from giving information to the legislature, the executive cannot say to people,  Hey, you can t give information to another body of the government,  Toensing said.KEY POINTS: The Republican leadership was blocking the investigation into both Benghazi and the Russia uranium scandal involving Clinton.Senator Grassley called on Sessions to release the info on the gag order by November 1st This should be interesting.The NDA (gag order) is unconstitutional and Toensing says this type of gag order has a criminal penalty. She says she s never heard of this type of gag order.Victoria Toensing is one of the best lawyers in DC and will get to the bottom of this one way or another. The plot thickens on this one  \n",
      "\n",
      "SEOUL (Reuters) - U.S. President Donald Trump may travel to the heavily fortified demilitarized zone (DMZ) separating North and South Korea when he visits South Korea next month, the South s Yonhap news agency said on Tuesday, citing a defense source. The White House sent an advance team of working-level officials in late September to check candidate sites for Trump s  special activity  in South Korea, the source was quoted as saying. Trump was expected to send a significant message to North Korea, either verbally or  kinetically , during his first trip to the peninsula as U.S. commander-in-chief, the source said. The truce village of Panmunjom and the observation post, both inside the DMZ, were among locations Trump was considering visiting, the source said. Yonhap did not elaborate and the White House did not comment. Trump and North Korean leader Kim Jong Un have been engaged in an increasingly bellicose exchange of rhetoric, with Trump suggesting the military option was the only way to halt the North s missile and nuclear programs. A trip to the DMZ, following in the footsteps of his predecessor, Barack Obama, and Vice President Mike Pence, would bring Trump within yards of North Korean soldiers, who stand eyeball to eyeball with their South Korean enemies, and likely be regarded by the North as highly provocative.  In recent weeks, North Korea has launched two missiles over Japan and conducted its sixth nuclear test, all in defiance of U.N. Security Council resolutions, and may be fast advancing toward its well publicized goal of developing a nuclear-tipped missile capable of hitting the U.S. mainland. Trump repeatedly has made clear his distaste for dialogue with North Korea. Last week, he dismissed the idea of talks as a waste of time, a day after Secretary of State Rex Tillerson said Washington was maintaining open lines of communication with Kim Jong Un s government.  Our country has been unsuccessfully dealing with North Korea for 25 years, giving billions of dollars & getting nothing. Policy didn t work!  the U.S. president said in a Twitter post on Monday. Reclusive North Korea and the rich, democratic South are technically still at war because their 1950-53 conflict ended in a truce, not a peace treaty. The North regularly threatens to destroy the South and its main ally, the United States. Trump is scheduled to visit Japan, South Korea, China, Vietnam and the Philippines starting from Nov. 3.  \n",
      "\n",
      "Trump commented about it during the reception: Hopefully it ll start being bipartisan. Because everybody really wants the same thing: We want greatness for this country that we love Chuck Schumer was at the event with a smirk on his face Peach of a guy, huh? He was recently spotted at a swanky Upper East side restaurant yelling at patrons he said voted for Trump. He s blocking literally everything Trump is trying to do including the vote on Neil Gorsuch.President Trump said he considers Schumer a friend He might want to rethink that! Read more: Daily Mail \n",
      "\n",
      "ATTENTION: Episode #157 of SUNDAY WIRE SHOW is postponed until next Sunday Oct. 23, 2016  in the meantime, ACR will be re-streaming last week s power-packed episode here LISTEN LIVE ON THIS PAGE AT THE FOLLOWING SCHEDULED SHOW TIMES:SUNDAYS   5pm-8pm UK Time | 12pm-3pm ET (US) | 9am-12pm PT (US)With great regret, we are informing our listeners that due to essential network maintenance, this week s show has been rescheduled for next Sunday. This week we ll re-play last week s popular Episode #156 with guests Pierre Le Corf, Tom Duggan and Vanessa Beeley ACR LIVE STREAM     broadstreet.zone(46707);   \n",
      "\n",
      "Firebrand conservative Ann Coulter exposed Delta Airlines who gave away a seat she had to pay extra for in order to accommodate her very long legs.Conservative columnist Ann Coulter flew into a fit of fury Saturday after Delta Airlines booted her from her reserved  Comfort+  seat   which comes with 3 additional inches of legroom   and gave it to another passenger.In a two-hour tweeting tantrum,she quoted her exchange with a flight attendant:  Why are you taking me out of the extra room seat I specifically booked?  she asked.Their answer, she said, was  I don t know. Here s an example of one of Coulter s tweets exposing Delta Airlines for giving her pre-paid seat with extra legroom away to a shorter passenger:Suckiest @Delta moved me from my PRE-BOOKED SEAT & gave it to some woman, not elderly, child, or sick. I have pictures so don t lie, @Delta!  Ann Coulter (@AnnCoulter) July 16, 2017Ann Coulter isn t the only person fed up with the shrinking seats on commercial airlines. Taller passengers are tired of traveling with their knees into their chest or being forced to sit sideways to accommodate their longer legs. And we haven t even discussed the limited room in seats for people who may be a little wider in the caboose. It appears that the federal government has decided to step in and flex their muscles, as they attempt to control decisions private airlines make about the size of their seats.Is it the government s job to determine how much space commercial airlines designate for their customers?A federal judge has ordered the Federal Aviation Administration to review seat sizes and legroom on commercial airlines.It s a victory for Flyers  Rights, an advocacy group that has pushed for new rules regulating seat sizes.Flyers  Rights says small airlines seats can put people s health at risk with conditions like blood clots in legs.They also say the average size of the seat itself has shrunk, along with space between the one behind.According to a report by Business Insider, the major airline that has the most space between seats is JetBlue, with 34 inches apart.The airline that boasted the least room was Spirit, with 28 inches between seats.Delta Air Lines and American Airlines were in the middle, with 31 inches between seats. Virgin America and Southwest had 32 inches, according to the report.   CBS Minnesota \n",
      "\n"
     ]
    }
   ],
   "source": [
    "rand_idxs = np.random.randint(0,df.index.max(), 10)\n",
    "for txt in df.text.values[rand_idxs]:\n",
    "    print(txt, '\\n')\n",
    "# df.text.values[0]"
   ]
  },
  {
   "cell_type": "code",
   "execution_count": 14,
   "metadata": {},
   "outputs": [],
   "source": [
    "from sklearn.model_selection import train_test_split\n",
    "X = df['text']\n",
    "y = df['label']\n",
    "X_train, X_test, y_train, y_test = train_test_split(X, y, test_size=0.2, random_state=42)"
   ]
  },
  {
   "cell_type": "code",
   "execution_count": 15,
   "metadata": {},
   "outputs": [
    {
     "data": {
      "text/plain": [
       "(35918,)"
      ]
     },
     "execution_count": 15,
     "metadata": {},
     "output_type": "execute_result"
    }
   ],
   "source": [
    "X_train.shape"
   ]
  },
  {
   "cell_type": "code",
   "execution_count": 16,
   "metadata": {},
   "outputs": [
    {
     "data": {
      "text/plain": [
       "(8980,)"
      ]
     },
     "execution_count": 16,
     "metadata": {},
     "output_type": "execute_result"
    }
   ],
   "source": [
    "X_test.shape"
   ]
  },
  {
   "cell_type": "code",
   "execution_count": 17,
   "metadata": {},
   "outputs": [
    {
     "data": {
      "text/html": [
       "<div>\n",
       "<style scoped>\n",
       "    .dataframe tbody tr th:only-of-type {\n",
       "        vertical-align: middle;\n",
       "    }\n",
       "\n",
       "    .dataframe tbody tr th {\n",
       "        vertical-align: top;\n",
       "    }\n",
       "\n",
       "    .dataframe thead th {\n",
       "        text-align: right;\n",
       "    }\n",
       "</style>\n",
       "<table border=\"1\" class=\"dataframe\">\n",
       "  <thead>\n",
       "    <tr style=\"text-align: right;\">\n",
       "      <th></th>\n",
       "      <th>text</th>\n",
       "      <th>label</th>\n",
       "    </tr>\n",
       "  </thead>\n",
       "  <tbody>\n",
       "    <tr>\n",
       "      <td>36335</td>\n",
       "      <td>ATHENS (Reuters) - Turkish President Tayyip Er...</td>\n",
       "      <td>1</td>\n",
       "    </tr>\n",
       "    <tr>\n",
       "      <td>12384</td>\n",
       "      <td>Ted Cruz would be fair, honest and most of all...</td>\n",
       "      <td>0</td>\n",
       "    </tr>\n",
       "    <tr>\n",
       "      <td>24419</td>\n",
       "      <td>WASHINGTON (Reuters) - White House Chief of St...</td>\n",
       "      <td>1</td>\n",
       "    </tr>\n",
       "    <tr>\n",
       "      <td>24740</td>\n",
       "      <td>DUBAI (Reuters) - Saudi Arabia welcomed the ne...</td>\n",
       "      <td>1</td>\n",
       "    </tr>\n",
       "    <tr>\n",
       "      <td>27039</td>\n",
       "      <td>SIGONELLA, Italy (Reuters) - U.S. President Do...</td>\n",
       "      <td>1</td>\n",
       "    </tr>\n",
       "  </tbody>\n",
       "</table>\n",
       "</div>"
      ],
      "text/plain": [
       "                                                    text  label\n",
       "36335  ATHENS (Reuters) - Turkish President Tayyip Er...      1\n",
       "12384  Ted Cruz would be fair, honest and most of all...      0\n",
       "24419  WASHINGTON (Reuters) - White House Chief of St...      1\n",
       "24740  DUBAI (Reuters) - Saudi Arabia welcomed the ne...      1\n",
       "27039  SIGONELLA, Italy (Reuters) - U.S. President Do...      1"
      ]
     },
     "execution_count": 17,
     "metadata": {},
     "output_type": "execute_result"
    }
   ],
   "source": [
    "train = pd.concat([X_train, y_train], axis=1)\n",
    "train.head()"
   ]
  },
  {
   "cell_type": "code",
   "execution_count": 18,
   "metadata": {},
   "outputs": [
    {
     "data": {
      "text/html": [
       "<div>\n",
       "<style scoped>\n",
       "    .dataframe tbody tr th:only-of-type {\n",
       "        vertical-align: middle;\n",
       "    }\n",
       "\n",
       "    .dataframe tbody tr th {\n",
       "        vertical-align: top;\n",
       "    }\n",
       "\n",
       "    .dataframe thead th {\n",
       "        text-align: right;\n",
       "    }\n",
       "</style>\n",
       "<table border=\"1\" class=\"dataframe\">\n",
       "  <thead>\n",
       "    <tr style=\"text-align: right;\">\n",
       "      <th></th>\n",
       "      <th>text</th>\n",
       "      <th>label</th>\n",
       "    </tr>\n",
       "  </thead>\n",
       "  <tbody>\n",
       "    <tr>\n",
       "      <td>22216</td>\n",
       "      <td>21st Century Wire says Ben Stein, reputable pr...</td>\n",
       "      <td>0</td>\n",
       "    </tr>\n",
       "    <tr>\n",
       "      <td>27917</td>\n",
       "      <td>WASHINGTON (Reuters) - U.S. President Donald T...</td>\n",
       "      <td>1</td>\n",
       "    </tr>\n",
       "    <tr>\n",
       "      <td>25007</td>\n",
       "      <td>(Reuters) - Puerto Rico Governor Ricardo Rosse...</td>\n",
       "      <td>1</td>\n",
       "    </tr>\n",
       "    <tr>\n",
       "      <td>1377</td>\n",
       "      <td>On Monday, Donald Trump once again embarrassed...</td>\n",
       "      <td>0</td>\n",
       "    </tr>\n",
       "    <tr>\n",
       "      <td>32476</td>\n",
       "      <td>GLASGOW, Scotland (Reuters) - Most U.S. presid...</td>\n",
       "      <td>1</td>\n",
       "    </tr>\n",
       "  </tbody>\n",
       "</table>\n",
       "</div>"
      ],
      "text/plain": [
       "                                                    text  label\n",
       "22216  21st Century Wire says Ben Stein, reputable pr...      0\n",
       "27917  WASHINGTON (Reuters) - U.S. President Donald T...      1\n",
       "25007  (Reuters) - Puerto Rico Governor Ricardo Rosse...      1\n",
       "1377   On Monday, Donald Trump once again embarrassed...      0\n",
       "32476  GLASGOW, Scotland (Reuters) - Most U.S. presid...      1"
      ]
     },
     "execution_count": 18,
     "metadata": {},
     "output_type": "execute_result"
    }
   ],
   "source": [
    "test = pd.concat([X_test, y_test], axis=1)\n",
    "test.head()"
   ]
  },
  {
   "cell_type": "code",
   "execution_count": 20,
   "metadata": {},
   "outputs": [
    {
     "data": {
      "text/plain": [
       "0    0.521967\n",
       "1    0.478033\n",
       "Name: label, dtype: float64"
      ]
     },
     "execution_count": 20,
     "metadata": {},
     "output_type": "execute_result"
    }
   ],
   "source": [
    "train.label.value_counts(normalize=True)"
   ]
  },
  {
   "cell_type": "code",
   "execution_count": 21,
   "metadata": {},
   "outputs": [
    {
     "data": {
      "text/plain": [
       "0    0.52706\n",
       "1    0.47294\n",
       "Name: label, dtype: float64"
      ]
     },
     "execution_count": 21,
     "metadata": {},
     "output_type": "execute_result"
    }
   ],
   "source": [
    "test.label.value_counts(normalize=True)"
   ]
  },
  {
   "cell_type": "code",
   "execution_count": 22,
   "metadata": {},
   "outputs": [],
   "source": [
    "# train_fp = '../data/train.csv'\n",
    "# test_fp = '../data/test.csv'\n",
    "# train.to_csv(train_fp)\n",
    "# test.to_csv(test_fp)"
   ]
  },
  {
   "cell_type": "code",
   "execution_count": 9,
   "metadata": {},
   "outputs": [],
   "source": [
    "train = pd.read_csv('../data/train.csv')\n",
    "test = pd.read_csv('../data/test.csv')"
   ]
  },
  {
   "cell_type": "code",
   "execution_count": 10,
   "metadata": {},
   "outputs": [
    {
     "data": {
      "text/plain": [
       "(8980, 3)"
      ]
     },
     "execution_count": 10,
     "metadata": {},
     "output_type": "execute_result"
    }
   ],
   "source": [
    "test.shape"
   ]
  },
  {
   "cell_type": "code",
   "execution_count": 11,
   "metadata": {},
   "outputs": [
    {
     "data": {
      "text/plain": [
       "(35918, 3)"
      ]
     },
     "execution_count": 11,
     "metadata": {},
     "output_type": "execute_result"
    }
   ],
   "source": [
    "train.shape"
   ]
  },
  {
   "cell_type": "code",
   "execution_count": null,
   "metadata": {},
   "outputs": [],
   "source": []
  }
 ],
 "metadata": {
  "kernelspec": {
   "display_name": "Python 3",
   "language": "python",
   "name": "python3"
  },
  "language_info": {
   "codemirror_mode": {
    "name": "ipython",
    "version": 3
   },
   "file_extension": ".py",
   "mimetype": "text/x-python",
   "name": "python",
   "nbconvert_exporter": "python",
   "pygments_lexer": "ipython3",
   "version": "3.7.4"
  }
 },
 "nbformat": 4,
 "nbformat_minor": 4
}
